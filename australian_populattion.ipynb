{
 "cells": [
  {
   "cell_type": "code",
   "execution_count": 2,
   "id": "20be812f",
   "metadata": {},
   "outputs": [
    {
     "name": "stdout",
     "output_type": "stream",
     "text": [
      "Collecting pandas-ods-reader\n",
      "  Downloading pandas_ods_reader-0.2.0-py3-none-any.whl (7.3 kB)\n",
      "Collecting ezodf<0.4.0,>=0.3.2\n",
      "  Downloading ezodf-0.3.2.tar.gz (125 kB)\n",
      "\u001b[K     |████████████████████████████████| 125 kB 2.1 MB/s eta 0:00:01\n",
      "\u001b[?25hRequirement already satisfied: lxml<5.0.0,>=4.9.2 in /home/mill/anaconda3/lib/python3.8/site-packages (from pandas-ods-reader) (4.9.3)\n",
      "Collecting pandas<2.0.0,>=1.5.2\n",
      "  Downloading pandas-1.5.3-cp38-cp38-manylinux_2_17_x86_64.manylinux2014_x86_64.whl (12.2 MB)\n",
      "\u001b[K     |████████████████████████████████| 12.2 MB 5.1 MB/s eta 0:00:01\n",
      "\u001b[?25hRequirement already satisfied: pytz>=2020.1 in /home/mill/anaconda3/lib/python3.8/site-packages (from pandas<2.0.0,>=1.5.2->pandas-ods-reader) (2023.3.post1)\n",
      "Requirement already satisfied: numpy>=1.20.3 in /home/mill/anaconda3/lib/python3.8/site-packages (from pandas<2.0.0,>=1.5.2->pandas-ods-reader) (1.22.4)\n",
      "Requirement already satisfied: python-dateutil>=2.8.1 in /home/mill/anaconda3/lib/python3.8/site-packages (from pandas<2.0.0,>=1.5.2->pandas-ods-reader) (2.8.2)\n",
      "Requirement already satisfied: six>=1.5 in /home/mill/anaconda3/lib/python3.8/site-packages (from python-dateutil>=2.8.1->pandas<2.0.0,>=1.5.2->pandas-ods-reader) (1.15.0)\n",
      "Building wheels for collected packages: ezodf\n",
      "  Building wheel for ezodf (setup.py) ... \u001b[?25ldone\n",
      "\u001b[?25h  Created wheel for ezodf: filename=ezodf-0.3.2-py2.py3-none-any.whl size=49003 sha256=79017fb046a49695cc6ae7b1e7fabb5af2cd3577c25c834ec3e64e216d6e9cda\n",
      "  Stored in directory: /home/mill/.cache/pip/wheels/50/d3/91/67b352fa0847576d7f3716a1d9a8ded88abb49e6c972cec44a\n",
      "Successfully built ezodf\n",
      "Installing collected packages: pandas, ezodf, pandas-ods-reader\n",
      "  Attempting uninstall: pandas\n",
      "    Found existing installation: pandas 2.0.3\n",
      "    Uninstalling pandas-2.0.3:\n",
      "      Successfully uninstalled pandas-2.0.3\n",
      "Successfully installed ezodf-0.3.2 pandas-1.5.3 pandas-ods-reader-0.2.0\n"
     ]
    }
   ],
   "source": [
    "!pip install pandas-ods-reader"
   ]
  },
  {
   "cell_type": "code",
   "execution_count": 17,
   "id": "c9b5cd95",
   "metadata": {},
   "outputs": [],
   "source": [
    "from pandas_ods_reader import read_ods\n",
    "import pandas as pd"
   ]
  },
  {
   "cell_type": "code",
   "execution_count": 40,
   "id": "fa2fa2db",
   "metadata": {},
   "outputs": [],
   "source": [
    "df = read_ods(\"australian_2021population.ods\")"
   ]
  },
  {
   "cell_type": "code",
   "execution_count": 41,
   "id": "0780f73c",
   "metadata": {},
   "outputs": [],
   "source": [
    "# Filter age groups from 20 to 49\n",
    "df = df[df['Age group (years)'].isin(['20 to 24', '25 to 29', '30 to 34', '35 to 39', '40 to 44', '45 to 49'])]\n",
    "\n",
    "# Calculate total percentage of the selected age groups\n",
    "total_percentage = df['%'].sum()\n",
    "\n",
    "# Rescale the percentages to sum to 100%\n",
    "df['Rescaled %'] = (df['%'] / total_percentage) * 100\n"
   ]
  },
  {
   "cell_type": "code",
   "execution_count": 42,
   "id": "2fb21508",
   "metadata": {},
   "outputs": [],
   "source": [
    "# Function to split age group into individual ages and distribute the Rescaled %\n",
    "def split_age_group(row):\n",
    "    start_age, end_age = map(int, row['Age group (years)'].split(' to '))\n",
    "    if end_age == 49:\n",
    "        end_age += 1  # Include age 50 in the 45 to 49 age group\n",
    "    num_ages = end_age - start_age + 1\n",
    "    rescaled_percentage_per_age = row['Rescaled %'] / num_ages\n",
    "    return [(age, rescaled_percentage_per_age) for age in range(start_age, end_age + 1)]\n",
    "\n",
    "# Split age groups into individual ages\n",
    "individual_ages = []\n",
    "for _, row in df.iterrows():\n",
    "    individual_ages.extend(split_age_group(row))\n",
    "\n",
    "# Create a new DataFrame for individual ages\n",
    "individual_age_df = pd.DataFrame(individual_ages, columns=['Age', 'Rescaled %'])\n",
    "\n",
    "# Adjust the final value to ensure the sum is 100%\n",
    "total_rescaled_percentage = individual_age_df[\"Rescaled %\"].sum()\n",
    "difference = 100 - total_rescaled_percentage\n",
    "individual_age_df.loc[individual_age_df.index[-1], 'Rescaled %'] += difference\n"
   ]
  },
  {
   "cell_type": "code",
   "execution_count": 44,
   "id": "403cbbae",
   "metadata": {},
   "outputs": [],
   "source": [
    "individual_age_df.to_csv(\"australian_2021rescale%.csv\")"
   ]
  },
  {
   "cell_type": "code",
   "execution_count": null,
   "id": "4934328d",
   "metadata": {},
   "outputs": [],
   "source": []
  }
 ],
 "metadata": {
  "kernelspec": {
   "display_name": "Python 3",
   "language": "python",
   "name": "python3"
  },
  "language_info": {
   "codemirror_mode": {
    "name": "ipython",
    "version": 3
   },
   "file_extension": ".py",
   "mimetype": "text/x-python",
   "name": "python",
   "nbconvert_exporter": "python",
   "pygments_lexer": "ipython3",
   "version": "3.8.8"
  }
 },
 "nbformat": 4,
 "nbformat_minor": 5
}
